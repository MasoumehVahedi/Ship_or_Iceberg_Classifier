{
 "cells": [
  {
   "cell_type": "markdown",
   "metadata": {},
   "source": [
    "## Import libraries"
   ]
  },
  {
   "cell_type": "code",
   "execution_count": 1,
   "metadata": {},
   "outputs": [],
   "source": [
    "import numpy as np\n",
    "import pandas as pd\n",
    "import seaborn as sns\n",
    "import matplotlib.pyplot as plt\n",
    "import cv2\n",
    "import random\n",
    "import os\n",
    "\n",
    "import lightgbm as lgb\n",
    "\n",
    "from skimage import util, exposure\n",
    "from skimage.filters import sobel\n",
    "from skimage.feature import greycomatrix, greycoprops\n",
    "\n",
    "from sklearn.ensemble import RandomForestClassifier\n",
    "from sklearn import svm\n",
    "\n",
    "from sklearn.model_selection import train_test_split\n",
    "from sklearn.metrics import accuracy_score\n",
    "from sklearn.metrics import precision_score\n",
    "from sklearn.metrics import recall_score\n",
    "from sklearn.metrics import f1_score\n",
    "from sklearn.metrics import confusion_matrix\n",
    "from sklearn.metrics import classification_report"
   ]
  },
  {
   "cell_type": "code",
   "execution_count": 2,
   "metadata": {},
   "outputs": [
    {
     "name": "stdout",
     "output_type": "stream",
     "text": [
      "['sample_submission.csv', 'test.json', 'train.json']\n"
     ]
    }
   ],
   "source": [
    "path = os.listdir(\"D:/StatoilC-CORE Iceberg Classifier Challenge/\")\n",
    "print(path)"
   ]
  },
  {
   "cell_type": "markdown",
   "metadata": {},
   "source": [
    "## Load dataset"
   ]
  },
  {
   "cell_type": "code",
   "execution_count": 3,
   "metadata": {},
   "outputs": [
    {
     "data": {
      "text/html": [
       "<div>\n",
       "<style scoped>\n",
       "    .dataframe tbody tr th:only-of-type {\n",
       "        vertical-align: middle;\n",
       "    }\n",
       "\n",
       "    .dataframe tbody tr th {\n",
       "        vertical-align: top;\n",
       "    }\n",
       "\n",
       "    .dataframe thead th {\n",
       "        text-align: right;\n",
       "    }\n",
       "</style>\n",
       "<table border=\"1\" class=\"dataframe\">\n",
       "  <thead>\n",
       "    <tr style=\"text-align: right;\">\n",
       "      <th></th>\n",
       "      <th>id</th>\n",
       "      <th>band_1</th>\n",
       "      <th>band_2</th>\n",
       "      <th>inc_angle</th>\n",
       "      <th>is_iceberg</th>\n",
       "    </tr>\n",
       "  </thead>\n",
       "  <tbody>\n",
       "    <tr>\n",
       "      <th>0</th>\n",
       "      <td>dfd5f913</td>\n",
       "      <td>[-27.878360999999998, -27.15416, -28.668615, -...</td>\n",
       "      <td>[-27.154118, -29.537888, -31.0306, -32.190483,...</td>\n",
       "      <td>43.9239</td>\n",
       "      <td>0</td>\n",
       "    </tr>\n",
       "    <tr>\n",
       "      <th>1</th>\n",
       "      <td>e25388fd</td>\n",
       "      <td>[-12.242375, -14.920304999999999, -14.920363, ...</td>\n",
       "      <td>[-31.506321, -27.984554, -26.645678, -23.76760...</td>\n",
       "      <td>38.1562</td>\n",
       "      <td>0</td>\n",
       "    </tr>\n",
       "    <tr>\n",
       "      <th>2</th>\n",
       "      <td>58b2aaa0</td>\n",
       "      <td>[-24.603676, -24.603714, -24.871029, -23.15277...</td>\n",
       "      <td>[-24.870956, -24.092632, -20.653963, -19.41104...</td>\n",
       "      <td>45.2859</td>\n",
       "      <td>1</td>\n",
       "    </tr>\n",
       "    <tr>\n",
       "      <th>3</th>\n",
       "      <td>4cfc3a18</td>\n",
       "      <td>[-22.454607, -23.082819, -23.998013, -23.99805...</td>\n",
       "      <td>[-27.889421, -27.519794, -27.165262, -29.10350...</td>\n",
       "      <td>43.8306</td>\n",
       "      <td>0</td>\n",
       "    </tr>\n",
       "    <tr>\n",
       "      <th>4</th>\n",
       "      <td>271f93f4</td>\n",
       "      <td>[-26.006956, -23.164886, -23.164886, -26.89116...</td>\n",
       "      <td>[-27.206915, -30.259186, -30.259186, -23.16495...</td>\n",
       "      <td>35.6256</td>\n",
       "      <td>0</td>\n",
       "    </tr>\n",
       "  </tbody>\n",
       "</table>\n",
       "</div>"
      ],
      "text/plain": [
       "         id                                             band_1  \\\n",
       "0  dfd5f913  [-27.878360999999998, -27.15416, -28.668615, -...   \n",
       "1  e25388fd  [-12.242375, -14.920304999999999, -14.920363, ...   \n",
       "2  58b2aaa0  [-24.603676, -24.603714, -24.871029, -23.15277...   \n",
       "3  4cfc3a18  [-22.454607, -23.082819, -23.998013, -23.99805...   \n",
       "4  271f93f4  [-26.006956, -23.164886, -23.164886, -26.89116...   \n",
       "\n",
       "                                              band_2 inc_angle  is_iceberg  \n",
       "0  [-27.154118, -29.537888, -31.0306, -32.190483,...   43.9239           0  \n",
       "1  [-31.506321, -27.984554, -26.645678, -23.76760...   38.1562           0  \n",
       "2  [-24.870956, -24.092632, -20.653963, -19.41104...   45.2859           1  \n",
       "3  [-27.889421, -27.519794, -27.165262, -29.10350...   43.8306           0  \n",
       "4  [-27.206915, -30.259186, -30.259186, -23.16495...   35.6256           0  "
      ]
     },
     "execution_count": 3,
     "metadata": {},
     "output_type": "execute_result"
    }
   ],
   "source": [
    "df_train = pd.read_json(\"D:/StatoilC-CORE Iceberg Classifier Challenge/train.json/train.json\")\n",
    "df_train.head()"
   ]
  },
  {
   "cell_type": "code",
   "execution_count": 4,
   "metadata": {},
   "outputs": [],
   "source": [
    "def prepare_data(df):\n",
    "    X_band_1 = []\n",
    "    X_band_2 = []\n",
    "    \n",
    "    for band in df[\"band_1\"]:\n",
    "        #Convert to float32\n",
    "        band_1 = np.array(band).astype(np.float32)\n",
    "        #Reshaping band_1 and band_2\n",
    "        band_1 = band_1.reshape(75,75)\n",
    "        X_band_1.append(band_1)\n",
    "        \n",
    "    for band in df[\"band_2\"]:\n",
    "         #Convert to float32\n",
    "        band_2 = np.array(band).astype(np.float32)\n",
    "        #Reshaping band_1 and band_2\n",
    "        band_2 = band_2.reshape(75,75)\n",
    "        X_band_2.append(band_2)\n",
    "        \n",
    "    #Convert list to numpy array\n",
    "    X_band_1 = np.array(X_band_1)\n",
    "    X_band_2 = np.array(X_band_2)\n",
    "    \n",
    "    # Rescale\n",
    "    X_band_1 = (X_band_1 - X_band_1.mean()) / (X_band_1.max() - X_band_1.min())\n",
    "    X_band_2 = (X_band_2 - X_band_2.mean()) / (X_band_2.max() - X_band_2.min())\n",
    "    \n",
    "    #Concatenate band_1 and band_2 to create X for training (or test)\n",
    "    X = np.concatenate([X_band_1[:, :, :, np.newaxis], \n",
    "                        X_band_2[:, :, :, np.newaxis],((X_band_1+X_band_2)/2)[:, :, :, np.newaxis]], \n",
    "                        axis=-1)\n",
    "    \n",
    "    Y = np.array(df[\"is_iceberg\"])\n",
    "    \n",
    "    return X, Y"
   ]
  },
  {
   "cell_type": "code",
   "execution_count": 5,
   "metadata": {},
   "outputs": [
    {
     "name": "stdout",
     "output_type": "stream",
     "text": [
      "X shape is:(1604, 75, 75, 3)\n",
      "Y shape is:(1604,)\n"
     ]
    }
   ],
   "source": [
    "X, Y = prepare_data(df_train)\n",
    "\n",
    "print(\"X shape is:{}\".format(X.shape))\n",
    "print(\"Y shape is:{}\".format(Y.shape))"
   ]
  },
  {
   "cell_type": "markdown",
   "metadata": {},
   "source": [
    "# GLCM features and LGBM Image Classification"
   ]
  },
  {
   "cell_type": "code",
   "execution_count": 6,
   "metadata": {},
   "outputs": [
    {
     "name": "stdout",
     "output_type": "stream",
     "text": [
      "grayscale_image shape is:(1604, 75, 75)\n"
     ]
    },
    {
     "data": {
      "image/png": "[encoded data removed]",
      "text/plain": [
       "<Figure size 432x288 with 1 Axes>"
      ]
     },
     "metadata": {
      "needs_background": "light"
     },
     "output_type": "display_data"
    }
   ],
   "source": [
    "# We need to convert the color to grey image for feature extraction\n",
    "rgb_weights = [0.2989, 0.5870, 0.1140]\n",
    "images = np.dot(X[...,:3], rgb_weights)\n",
    "print(\"grayscale_image shape is:{}\".format(images.shape))\n",
    "\n",
    "# Visulalize gray image\n",
    "plt.imshow(images[1], cmap=plt.get_cmap(\"gray\"))\n",
    "plt.show()"
   ]
  },
  {
   "cell_type": "code",
   "execution_count": 13,
   "metadata": {},
   "outputs": [],
   "source": [
    "# Note: before training the model using GLCM, You need to rescale the intensity to the range [0, 1] \n",
    "# before converting the image to 8-bit unsigned integer:\n",
    "# because our data is float and we need to rescale that and then convert to integer\n",
    "# Here, we want to do this process:\n",
    "bin_width = 32\n",
    "\n",
    "X_scaled = exposure.rescale_intensity(images, out_range=(0, 1))\n",
    "X_binned = util.img_as_ubyte(X_scaled)\n",
    "X_binned = X_binned // bin_width"
   ]
  },
  {
   "cell_type": "code",
   "execution_count": 14,
   "metadata": {
    "scrolled": true
   },
   "outputs": [
    {
     "data": {
      "text/plain": [
       "array([[[0.1937381 , 0.17183109, 0.14859685, ..., 0.18419204,\n",
       "         0.1750172 , 0.17721489],\n",
       "        [0.14859814, 0.12578362, 0.14823006, ..., 0.12441661,\n",
       "         0.17803488, 0.18286274],\n",
       "        [0.1219634 , 0.09174614, 0.15617842, ..., 0.14989957,\n",
       "         0.14000917, 0.14431852],\n",
       "        ...,\n",
       "        [0.18013902, 0.1821876 , 0.15061732, ..., 0.20330377,\n",
       "         0.19963908, 0.18427419],\n",
       "        [0.15036738, 0.16831984, 0.16924723, ..., 0.17932784,\n",
       "         0.18699605, 0.12751501],\n",
       "        [0.15744459, 0.18273541, 0.19345032, ..., 0.16312586,\n",
       "         0.17753964, 0.17115477]],\n",
       "\n",
       "       [[0.22295595, 0.24754566, 0.26181664, ..., 0.29192697,\n",
       "         0.29937485, 0.27675301],\n",
       "        [0.28324129, 0.28386707, 0.2756642 , ..., 0.26134264,\n",
       "         0.26265614, 0.27381356],\n",
       "        [0.28089193, 0.24767817, 0.27940207, ..., 0.27046254,\n",
       "         0.26855985, 0.22311663],\n",
       "        ...,\n",
       "        [0.24430055, 0.25223682, 0.25558604, ..., 0.27005413,\n",
       "         0.25465068, 0.26753987],\n",
       "        [0.23142271, 0.24849614, 0.27778698, ..., 0.30982541,\n",
       "         0.32319987, 0.29554633],\n",
       "        [0.24790459, 0.27696432, 0.26768878, ..., 0.276931  ,\n",
       "         0.30924646, 0.30721436]],\n",
       "\n",
       "       [[0.23390951, 0.24220558, 0.2775662 , ..., 0.26222491,\n",
       "         0.2348825 , 0.24755953],\n",
       "        [0.25677411, 0.26988144, 0.29459614, ..., 0.26559336,\n",
       "         0.25458336, 0.24194665],\n",
       "        [0.24625075, 0.25615555, 0.25971273, ..., 0.27255119,\n",
       "         0.27950651, 0.24194665],\n",
       "        ...,\n",
       "        [0.24921443, 0.20326285, 0.19520641, ..., 0.27758869,\n",
       "         0.26602042, 0.23563992],\n",
       "        [0.21312651, 0.21788585, 0.2341232 , ..., 0.26660229,\n",
       "         0.249735  , 0.21282555],\n",
       "        [0.24598429, 0.26920653, 0.28010432, ..., 0.25518328,\n",
       "         0.23487431, 0.22211874]],\n",
       "\n",
       "       ...,\n",
       "\n",
       "       [[0.26052544, 0.21701143, 0.21729552, ..., 0.24309024,\n",
       "         0.2638295 , 0.29503359],\n",
       "        [0.27443823, 0.26876736, 0.22967064, ..., 0.27473076,\n",
       "         0.28326669, 0.28711427],\n",
       "        [0.27442296, 0.28572143, 0.27714146, ..., 0.29017777,\n",
       "         0.27271042, 0.2639011 ],\n",
       "        ...,\n",
       "        [0.27397769, 0.2700413 , 0.26033934, ..., 0.25588002,\n",
       "         0.27165388, 0.25582914],\n",
       "        [0.26111783, 0.28145941, 0.2669413 , ..., 0.25196829,\n",
       "         0.27009858, 0.25144744],\n",
       "        [0.24863174, 0.28204075, 0.26604575, ..., 0.28254168,\n",
       "         0.27055442, 0.21114412]],\n",
       "\n",
       "       [[0.23151191, 0.25775319, 0.25764532, ..., 0.26678193,\n",
       "         0.26164086, 0.26377903],\n",
       "        [0.24589548, 0.22577452, 0.24606431, ..., 0.26838872,\n",
       "         0.26164086, 0.22570257],\n",
       "        [0.22026204, 0.19813883, 0.24606431, ..., 0.26518123,\n",
       "         0.26432754, 0.23879658],\n",
       "        ...,\n",
       "        [0.28211559, 0.28412859, 0.28025692, ..., 0.28441146,\n",
       "         0.27579171, 0.28189177],\n",
       "        [0.26013025, 0.28412859, 0.27023288, ..., 0.27364345,\n",
       "         0.27442046, 0.28559236],\n",
       "        [0.26022251, 0.27001385, 0.27685427, ..., 0.27745462,\n",
       "         0.27596632, 0.27565372]],\n",
       "\n",
       "       [[0.26115162, 0.25198383, 0.22477023, ..., 0.24252418,\n",
       "         0.25582664, 0.24002525],\n",
       "        [0.21597173, 0.24257369, 0.23678769, ..., 0.24538021,\n",
       "         0.24291197, 0.23652314],\n",
       "        [0.23291213, 0.24257369, 0.27116818, ..., 0.24985453,\n",
       "         0.24985453, 0.2679119 ],\n",
       "        ...,\n",
       "        [0.25482742, 0.26973657, 0.22989102, ..., 0.22698088,\n",
       "         0.22380874, 0.21720228],\n",
       "        [0.28270115, 0.25418865, 0.25418865, ..., 0.25151866,\n",
       "         0.26159594, 0.21720228],\n",
       "        [0.27283222, 0.27186427, 0.22547396, ..., 0.28745599,\n",
       "         0.28295801, 0.23499707]]])"
      ]
     },
     "execution_count": 14,
     "metadata": {},
     "output_type": "execute_result"
    }
   ],
   "source": [
    "X_scaled"
   ]
  },
  {
   "cell_type": "code",
   "execution_count": 15,
   "metadata": {
    "scrolled": true
   },
   "outputs": [
    {
     "data": {
      "text/plain": [
       "array([[[1, 1, 1, ..., 1, 1, 1],\n",
       "        [1, 1, 1, ..., 1, 1, 1],\n",
       "        [0, 0, 1, ..., 1, 1, 1],\n",
       "        ...,\n",
       "        [1, 1, 1, ..., 1, 1, 1],\n",
       "        [1, 1, 1, ..., 1, 1, 1],\n",
       "        [1, 1, 1, ..., 1, 1, 1]],\n",
       "\n",
       "       [[1, 1, 2, ..., 2, 2, 2],\n",
       "        [2, 2, 2, ..., 2, 2, 2],\n",
       "        [2, 1, 2, ..., 2, 2, 1],\n",
       "        ...,\n",
       "        [1, 2, 2, ..., 2, 2, 2],\n",
       "        [1, 1, 2, ..., 2, 2, 2],\n",
       "        [1, 2, 2, ..., 2, 2, 2]],\n",
       "\n",
       "       [[1, 1, 2, ..., 2, 1, 1],\n",
       "        [2, 2, 2, ..., 2, 2, 1],\n",
       "        [1, 2, 2, ..., 2, 2, 1],\n",
       "        ...,\n",
       "        [2, 1, 1, ..., 2, 2, 1],\n",
       "        [1, 1, 1, ..., 2, 2, 1],\n",
       "        [1, 2, 2, ..., 2, 1, 1]],\n",
       "\n",
       "       ...,\n",
       "\n",
       "       [[2, 1, 1, ..., 1, 2, 2],\n",
       "        [2, 2, 1, ..., 2, 2, 2],\n",
       "        [2, 2, 2, ..., 2, 2, 2],\n",
       "        ...,\n",
       "        [2, 2, 2, ..., 2, 2, 2],\n",
       "        [2, 2, 2, ..., 2, 2, 2],\n",
       "        [1, 2, 2, ..., 2, 2, 1]],\n",
       "\n",
       "       [[1, 2, 2, ..., 2, 2, 2],\n",
       "        [1, 1, 1, ..., 2, 2, 1],\n",
       "        [1, 1, 1, ..., 2, 2, 1],\n",
       "        ...,\n",
       "        [2, 2, 2, ..., 2, 2, 2],\n",
       "        [2, 2, 2, ..., 2, 2, 2],\n",
       "        [2, 2, 2, ..., 2, 2, 2]],\n",
       "\n",
       "       [[2, 2, 1, ..., 1, 2, 1],\n",
       "        [1, 1, 1, ..., 1, 1, 1],\n",
       "        [1, 1, 2, ..., 2, 2, 2],\n",
       "        ...,\n",
       "        [2, 2, 1, ..., 1, 1, 1],\n",
       "        [2, 2, 2, ..., 2, 2, 1],\n",
       "        [2, 2, 1, ..., 2, 2, 1]]], dtype=uint8)"
      ]
     },
     "execution_count": 15,
     "metadata": {},
     "output_type": "execute_result"
    }
   ],
   "source": [
    "X_binned"
   ]
  },
  {
   "cell_type": "code",
   "execution_count": 16,
   "metadata": {},
   "outputs": [
    {
     "name": "stdout",
     "output_type": "stream",
     "text": [
      "X_train shape is:(1283, 75, 75)\n",
      "Y_train shape is:(1283,)\n",
      "X_test shape is:(321, 75, 75)\n",
      "Y_test shape is:(321,)\n"
     ]
    }
   ],
   "source": [
    "SIZE = 75\n",
    "\n",
    "# Split data to train and test\n",
    "X_train, X_test, Y_train, Y_test = train_test_split(X_binned, Y, test_size=0.2, random_state=42)\n",
    "\n",
    "print(\"X_train shape is:{}\".format(X_train.shape))\n",
    "print(\"Y_train shape is:{}\".format(Y_train.shape))\n",
    "print(\"X_test shape is:{}\".format(X_test.shape))\n",
    "print(\"Y_test shape is:{}\".format(Y_test.shape))"
   ]
  },
  {
   "cell_type": "code",
   "execution_count": 17,
   "metadata": {},
   "outputs": [],
   "source": [
    "# Feature extraction\n",
    "# In this case, we want to extract feature using gray-level co-occurrence matrix(GLCM)\n",
    "\n",
    "def feature_extraction(data):\n",
    "    img_ds = pd.DataFrame()\n",
    "    \n",
    "    # Iterate through images in file\n",
    "    for img in range(data.shape[0]):\n",
    "        # Create a data frame temperory to give features\n",
    "        df = pd.DataFrame()\n",
    "        image = data[img,:,:]\n",
    "        \n",
    "        # Now, we add data to data frame using GLCM \n",
    "        # GLCM = greycomatrix(image, [1], [0, np.pi/4, np.pi/2, 3*np.pi/4])\n",
    "        GLCM = greycomatrix(image, [1], [0])\n",
    "        GLCM_energy = greycoprops(GLCM, \"energy\")[0]\n",
    "        df[\"Energy\"] = GLCM_energy\n",
    "        GLCM_corr = greycoprops(GLCM, \"correlation\")[0]\n",
    "        df[\"Correlation\"] = GLCM_corr\n",
    "        GLCM_diss = greycoprops(GLCM, \"dissimilarity\")[0]\n",
    "        df[\"Dissimilarity\"] = GLCM_diss\n",
    "        GLCM_homgen = greycoprops(GLCM, \"homogeneity\")[0]\n",
    "        df[\"Homogenity\"] = GLCM_homgen\n",
    "        GLCM_cont = greycoprops(GLCM, \"contrast\")[0]\n",
    "        df[\"Contrast\"] = GLCM_cont\n",
    "        \n",
    "        # GLCM 2\n",
    "        GLCM2 = greycomatrix(image, [3], [0])\n",
    "        GLCM_energy2 = greycoprops(GLCM2, \"energy\")[0]\n",
    "        df[\"Energy2\"] = GLCM_energy2\n",
    "        GLCM_corr2 = greycoprops(GLCM2, \"correlation\")[0]\n",
    "        df[\"Correlation2\"] = GLCM_corr2\n",
    "        GLCM_diss2 = greycoprops(GLCM2, \"dissimilarity\")[0]\n",
    "        df[\"Dissimilarity2\"] = GLCM_diss2\n",
    "        GLCM_homgen2 = greycoprops(GLCM2, \"homogeneity\")[0]\n",
    "        df[\"Homogeneity2\"] = GLCM_homgen2\n",
    "        GLCM_cont2 = greycoprops(GLCM2, \"contrast\")[0]\n",
    "        df[\"Contrast2\"] = GLCM_cont2\n",
    "        \n",
    "        # GLCM 3\n",
    "        GLCM3 = greycomatrix(image, [5], [0])\n",
    "        GLCM_energy = greycoprops(GLCM3, \"energy\")[0]\n",
    "        df[\"Energy3\"] = GLCM_energy\n",
    "        GLCM_corr3 = greycoprops(GLCM3, \"correlation\")[0]\n",
    "        df[\"Correlation3\"] = GLCM_corr3\n",
    "        GLCM_diss3 = greycoprops(GLCM3, \"dissimilarity\")[0]\n",
    "        df[\"Dissimilarity3\"] = GLCM_diss3\n",
    "        GLCM_homgen3 = greycoprops(GLCM3, \"homogeneity\")[0]\n",
    "        df[\"Homogeneity3\"] = GLCM_homgen3\n",
    "        GLCM_cont3 = greycoprops(GLCM3, \"contrast\")[0]\n",
    "        df[\"Contrast3\"] = GLCM_cont3\n",
    "        \n",
    "        # GLCM 4\n",
    "        GLCM4 = greycomatrix(image, [0], [np.pi/4])\n",
    "        GLCM_energy4 = greycoprops(GLCM4, \"energy\")[0]\n",
    "        df[\"Energy4\"] = GLCM_energy4\n",
    "        GLCM_corr4 = greycoprops(GLCM4, \"correlation\")[0]\n",
    "        df[\"Correlation4\"] = GLCM_corr4\n",
    "        GLCM_diss4 = greycoprops(GLCM4, \"dissimilarity\")[0]\n",
    "        df[\"Dissimilarity4\"] = GLCM_diss4\n",
    "        GLCM_homgen4 = greycoprops(GLCM4, \"homogeneity\")[0]\n",
    "        df[\"Homogeneity4\"] = GLCM_homgen4\n",
    "        GLCM_cont4 = greycoprops(GLCM4, \"contrast\")[0]\n",
    "        df[\"Contrast4\"] = GLCM_cont4\n",
    "        \n",
    "        # GLCM 5\n",
    "        GLCM5 = greycomatrix(image, [0], [np.pi/4])\n",
    "        GLCM_energy5 = greycoprops(GLCM5, \"energy\")[0]\n",
    "        df[\"Energy5\"] = GLCM_energy5\n",
    "        GLCM_corr5 = greycoprops(GLCM5, \"correlation\")[0]\n",
    "        df[\"Correlation5\"] = GLCM_corr5\n",
    "        GLCM_diss5 = greycoprops(GLCM5, \"dissimilarity\")[0]\n",
    "        df[\"Dissimilarity5\"] = GLCM_diss5\n",
    "        GLCM_homgen5 = greycoprops(GLCM5, \"homogeneity\")[0]\n",
    "        df[\"Homogeneity5\"] = GLCM_homgen5\n",
    "        GLCM_cont5 = greycoprops(GLCM5, \"contrast\")[0]\n",
    "        df[\"Contrast5\"] = GLCM_cont5\n",
    "        \n",
    "        # Append all features into img_ds\n",
    "        img_ds = img_ds.append(df)\n",
    "        \n",
    "    return img_ds"
   ]
  },
  {
   "cell_type": "code",
   "execution_count": 18,
   "metadata": {},
   "outputs": [],
   "source": [
    "# Now, extract features from X_train\n",
    "img_features = feature_extraction(X_train)\n",
    "X_for_training = img_features\n",
    "\n",
    "# Now, extract features from X_test\n",
    "img_test_features = feature_extraction(X_test)\n",
    "img_test_features = np.expand_dims(img_test_features, axis=0)\n",
    "X_for_test = np.reshape(img_test_features, (X_test.shape[0], -1))"
   ]
  },
  {
   "cell_type": "code",
   "execution_count": 19,
   "metadata": {},
   "outputs": [
    {
     "name": "stdout",
     "output_type": "stream",
     "text": [
      "Image Features shape is = (1283, 25)\n"
     ]
    }
   ],
   "source": [
    "print(\"Image Features shape is = {}\".format(img_features.shape))"
   ]
  },
  {
   "cell_type": "code",
   "execution_count": 20,
   "metadata": {},
   "outputs": [
    {
     "data": {
      "text/html": [
       "<div>\n",
       "<style scoped>\n",
       "    .dataframe tbody tr th:only-of-type {\n",
       "        vertical-align: middle;\n",
       "    }\n",
       "\n",
       "    .dataframe tbody tr th {\n",
       "        vertical-align: top;\n",
       "    }\n",
       "\n",
       "    .dataframe thead th {\n",
       "        text-align: right;\n",
       "    }\n",
       "</style>\n",
       "<table border=\"1\" class=\"dataframe\">\n",
       "  <thead>\n",
       "    <tr style=\"text-align: right;\">\n",
       "      <th></th>\n",
       "      <th>Energy</th>\n",
       "      <th>Correlation</th>\n",
       "      <th>Dissimilarity</th>\n",
       "      <th>Homogenity</th>\n",
       "      <th>Contrast</th>\n",
       "      <th>Energy2</th>\n",
       "      <th>Correlation2</th>\n",
       "      <th>Dissimilarity2</th>\n",
       "      <th>Homogeneity2</th>\n",
       "      <th>Contrast2</th>\n",
       "      <th>...</th>\n",
       "      <th>Energy4</th>\n",
       "      <th>Correlation4</th>\n",
       "      <th>Dissimilarity4</th>\n",
       "      <th>Homogeneity4</th>\n",
       "      <th>Contrast4</th>\n",
       "      <th>Energy5</th>\n",
       "      <th>Correlation5</th>\n",
       "      <th>Dissimilarity5</th>\n",
       "      <th>Homogeneity5</th>\n",
       "      <th>Contrast5</th>\n",
       "    </tr>\n",
       "  </thead>\n",
       "  <tbody>\n",
       "    <tr>\n",
       "      <th>0</th>\n",
       "      <td>0.813230</td>\n",
       "      <td>0.542161</td>\n",
       "      <td>0.124505</td>\n",
       "      <td>0.937820</td>\n",
       "      <td>0.125225</td>\n",
       "      <td>0.784742</td>\n",
       "      <td>0.239189</td>\n",
       "      <td>0.196667</td>\n",
       "      <td>0.902481</td>\n",
       "      <td>0.204815</td>\n",
       "      <td>...</td>\n",
       "      <td>0.874778</td>\n",
       "      <td>1.0</td>\n",
       "      <td>0.0</td>\n",
       "      <td>1.0</td>\n",
       "      <td>0.0</td>\n",
       "      <td>0.874778</td>\n",
       "      <td>1.0</td>\n",
       "      <td>0.0</td>\n",
       "      <td>1.0</td>\n",
       "      <td>0.0</td>\n",
       "    </tr>\n",
       "    <tr>\n",
       "      <th>0</th>\n",
       "      <td>0.794441</td>\n",
       "      <td>0.419228</td>\n",
       "      <td>0.145405</td>\n",
       "      <td>0.927297</td>\n",
       "      <td>0.145405</td>\n",
       "      <td>0.758813</td>\n",
       "      <td>0.050256</td>\n",
       "      <td>0.235926</td>\n",
       "      <td>0.882185</td>\n",
       "      <td>0.237407</td>\n",
       "      <td>...</td>\n",
       "      <td>0.868847</td>\n",
       "      <td>1.0</td>\n",
       "      <td>0.0</td>\n",
       "      <td>1.0</td>\n",
       "      <td>0.0</td>\n",
       "      <td>0.868847</td>\n",
       "      <td>1.0</td>\n",
       "      <td>0.0</td>\n",
       "      <td>1.0</td>\n",
       "      <td>0.0</td>\n",
       "    </tr>\n",
       "    <tr>\n",
       "      <th>0</th>\n",
       "      <td>0.807430</td>\n",
       "      <td>0.699665</td>\n",
       "      <td>0.133153</td>\n",
       "      <td>0.933423</td>\n",
       "      <td>0.133153</td>\n",
       "      <td>0.783904</td>\n",
       "      <td>0.472729</td>\n",
       "      <td>0.209444</td>\n",
       "      <td>0.897722</td>\n",
       "      <td>0.233889</td>\n",
       "      <td>...</td>\n",
       "      <td>0.867860</td>\n",
       "      <td>1.0</td>\n",
       "      <td>0.0</td>\n",
       "      <td>1.0</td>\n",
       "      <td>0.0</td>\n",
       "      <td>0.867860</td>\n",
       "      <td>1.0</td>\n",
       "      <td>0.0</td>\n",
       "      <td>1.0</td>\n",
       "      <td>0.0</td>\n",
       "    </tr>\n",
       "    <tr>\n",
       "      <th>0</th>\n",
       "      <td>0.575866</td>\n",
       "      <td>0.372895</td>\n",
       "      <td>0.307748</td>\n",
       "      <td>0.846126</td>\n",
       "      <td>0.307748</td>\n",
       "      <td>0.544232</td>\n",
       "      <td>0.113206</td>\n",
       "      <td>0.436111</td>\n",
       "      <td>0.781944</td>\n",
       "      <td>0.436111</td>\n",
       "      <td>...</td>\n",
       "      <td>0.735102</td>\n",
       "      <td>1.0</td>\n",
       "      <td>0.0</td>\n",
       "      <td>1.0</td>\n",
       "      <td>0.0</td>\n",
       "      <td>0.735102</td>\n",
       "      <td>1.0</td>\n",
       "      <td>0.0</td>\n",
       "      <td>1.0</td>\n",
       "      <td>0.0</td>\n",
       "    </tr>\n",
       "    <tr>\n",
       "      <th>0</th>\n",
       "      <td>0.590769</td>\n",
       "      <td>0.598011</td>\n",
       "      <td>0.240180</td>\n",
       "      <td>0.879910</td>\n",
       "      <td>0.240180</td>\n",
       "      <td>0.539493</td>\n",
       "      <td>0.308572</td>\n",
       "      <td>0.402222</td>\n",
       "      <td>0.800333</td>\n",
       "      <td>0.416667</td>\n",
       "      <td>...</td>\n",
       "      <td>0.722245</td>\n",
       "      <td>1.0</td>\n",
       "      <td>0.0</td>\n",
       "      <td>1.0</td>\n",
       "      <td>0.0</td>\n",
       "      <td>0.722245</td>\n",
       "      <td>1.0</td>\n",
       "      <td>0.0</td>\n",
       "      <td>1.0</td>\n",
       "      <td>0.0</td>\n",
       "    </tr>\n",
       "    <tr>\n",
       "      <th>...</th>\n",
       "      <td>...</td>\n",
       "      <td>...</td>\n",
       "      <td>...</td>\n",
       "      <td>...</td>\n",
       "      <td>...</td>\n",
       "      <td>...</td>\n",
       "      <td>...</td>\n",
       "      <td>...</td>\n",
       "      <td>...</td>\n",
       "      <td>...</td>\n",
       "      <td>...</td>\n",
       "      <td>...</td>\n",
       "      <td>...</td>\n",
       "      <td>...</td>\n",
       "      <td>...</td>\n",
       "      <td>...</td>\n",
       "      <td>...</td>\n",
       "      <td>...</td>\n",
       "      <td>...</td>\n",
       "      <td>...</td>\n",
       "      <td>...</td>\n",
       "    </tr>\n",
       "    <tr>\n",
       "      <th>0</th>\n",
       "      <td>0.606259</td>\n",
       "      <td>0.322731</td>\n",
       "      <td>0.290631</td>\n",
       "      <td>0.854685</td>\n",
       "      <td>0.290631</td>\n",
       "      <td>0.570866</td>\n",
       "      <td>-0.005088</td>\n",
       "      <td>0.433148</td>\n",
       "      <td>0.783426</td>\n",
       "      <td>0.433148</td>\n",
       "      <td>...</td>\n",
       "      <td>0.757281</td>\n",
       "      <td>1.0</td>\n",
       "      <td>0.0</td>\n",
       "      <td>1.0</td>\n",
       "      <td>0.0</td>\n",
       "      <td>0.757281</td>\n",
       "      <td>1.0</td>\n",
       "      <td>0.0</td>\n",
       "      <td>1.0</td>\n",
       "      <td>0.0</td>\n",
       "    </tr>\n",
       "    <tr>\n",
       "      <th>0</th>\n",
       "      <td>0.547784</td>\n",
       "      <td>0.367584</td>\n",
       "      <td>0.312613</td>\n",
       "      <td>0.843694</td>\n",
       "      <td>0.312613</td>\n",
       "      <td>0.514276</td>\n",
       "      <td>0.026101</td>\n",
       "      <td>0.480741</td>\n",
       "      <td>0.759704</td>\n",
       "      <td>0.481481</td>\n",
       "      <td>...</td>\n",
       "      <td>0.717074</td>\n",
       "      <td>1.0</td>\n",
       "      <td>0.0</td>\n",
       "      <td>1.0</td>\n",
       "      <td>0.0</td>\n",
       "      <td>0.717074</td>\n",
       "      <td>1.0</td>\n",
       "      <td>0.0</td>\n",
       "      <td>1.0</td>\n",
       "      <td>0.0</td>\n",
       "    </tr>\n",
       "    <tr>\n",
       "      <th>0</th>\n",
       "      <td>0.646054</td>\n",
       "      <td>0.424185</td>\n",
       "      <td>0.239640</td>\n",
       "      <td>0.880180</td>\n",
       "      <td>0.239640</td>\n",
       "      <td>0.599405</td>\n",
       "      <td>0.030036</td>\n",
       "      <td>0.400185</td>\n",
       "      <td>0.800315</td>\n",
       "      <td>0.404259</td>\n",
       "      <td>...</td>\n",
       "      <td>0.773748</td>\n",
       "      <td>1.0</td>\n",
       "      <td>0.0</td>\n",
       "      <td>1.0</td>\n",
       "      <td>0.0</td>\n",
       "      <td>0.773748</td>\n",
       "      <td>1.0</td>\n",
       "      <td>0.0</td>\n",
       "      <td>1.0</td>\n",
       "      <td>0.0</td>\n",
       "    </tr>\n",
       "    <tr>\n",
       "      <th>0</th>\n",
       "      <td>0.974306</td>\n",
       "      <td>0.307701</td>\n",
       "      <td>0.021081</td>\n",
       "      <td>0.989459</td>\n",
       "      <td>0.021081</td>\n",
       "      <td>0.971393</td>\n",
       "      <td>0.121230</td>\n",
       "      <td>0.026852</td>\n",
       "      <td>0.986574</td>\n",
       "      <td>0.026852</td>\n",
       "      <td>...</td>\n",
       "      <td>0.984770</td>\n",
       "      <td>1.0</td>\n",
       "      <td>0.0</td>\n",
       "      <td>1.0</td>\n",
       "      <td>0.0</td>\n",
       "      <td>0.984770</td>\n",
       "      <td>1.0</td>\n",
       "      <td>0.0</td>\n",
       "      <td>1.0</td>\n",
       "      <td>0.0</td>\n",
       "    </tr>\n",
       "    <tr>\n",
       "      <th>0</th>\n",
       "      <td>0.877289</td>\n",
       "      <td>0.700025</td>\n",
       "      <td>0.071712</td>\n",
       "      <td>0.964144</td>\n",
       "      <td>0.071712</td>\n",
       "      <td>0.850488</td>\n",
       "      <td>0.419221</td>\n",
       "      <td>0.131852</td>\n",
       "      <td>0.935111</td>\n",
       "      <td>0.142222</td>\n",
       "      <td>...</td>\n",
       "      <td>0.912727</td>\n",
       "      <td>1.0</td>\n",
       "      <td>0.0</td>\n",
       "      <td>1.0</td>\n",
       "      <td>0.0</td>\n",
       "      <td>0.912727</td>\n",
       "      <td>1.0</td>\n",
       "      <td>0.0</td>\n",
       "      <td>1.0</td>\n",
       "      <td>0.0</td>\n",
       "    </tr>\n",
       "  </tbody>\n",
       "</table>\n",
       "<p>1283 rows × 25 columns</p>\n",
       "</div>"
      ],
      "text/plain": [
       "      Energy  Correlation  Dissimilarity  Homogenity  Contrast   Energy2  \\\n",
       "0   0.813230     0.542161       0.124505    0.937820  0.125225  0.784742   \n",
       "0   0.794441     0.419228       0.145405    0.927297  0.145405  0.758813   \n",
       "0   0.807430     0.699665       0.133153    0.933423  0.133153  0.783904   \n",
       "0   0.575866     0.372895       0.307748    0.846126  0.307748  0.544232   \n",
       "0   0.590769     0.598011       0.240180    0.879910  0.240180  0.539493   \n",
       "..       ...          ...            ...         ...       ...       ...   \n",
       "0   0.606259     0.322731       0.290631    0.854685  0.290631  0.570866   \n",
       "0   0.547784     0.367584       0.312613    0.843694  0.312613  0.514276   \n",
       "0   0.646054     0.424185       0.239640    0.880180  0.239640  0.599405   \n",
       "0   0.974306     0.307701       0.021081    0.989459  0.021081  0.971393   \n",
       "0   0.877289     0.700025       0.071712    0.964144  0.071712  0.850488   \n",
       "\n",
       "    Correlation2  Dissimilarity2  Homogeneity2  Contrast2  ...   Energy4  \\\n",
       "0       0.239189        0.196667      0.902481   0.204815  ...  0.874778   \n",
       "0       0.050256        0.235926      0.882185   0.237407  ...  0.868847   \n",
       "0       0.472729        0.209444      0.897722   0.233889  ...  0.867860   \n",
       "0       0.113206        0.436111      0.781944   0.436111  ...  0.735102   \n",
       "0       0.308572        0.402222      0.800333   0.416667  ...  0.722245   \n",
       "..           ...             ...           ...        ...  ...       ...   \n",
       "0      -0.005088        0.433148      0.783426   0.433148  ...  0.757281   \n",
       "0       0.026101        0.480741      0.759704   0.481481  ...  0.717074   \n",
       "0       0.030036        0.400185      0.800315   0.404259  ...  0.773748   \n",
       "0       0.121230        0.026852      0.986574   0.026852  ...  0.984770   \n",
       "0       0.419221        0.131852      0.935111   0.142222  ...  0.912727   \n",
       "\n",
       "    Correlation4  Dissimilarity4  Homogeneity4  Contrast4   Energy5  \\\n",
       "0            1.0             0.0           1.0        0.0  0.874778   \n",
       "0            1.0             0.0           1.0        0.0  0.868847   \n",
       "0            1.0             0.0           1.0        0.0  0.867860   \n",
       "0            1.0             0.0           1.0        0.0  0.735102   \n",
       "0            1.0             0.0           1.0        0.0  0.722245   \n",
       "..           ...             ...           ...        ...       ...   \n",
       "0            1.0             0.0           1.0        0.0  0.757281   \n",
       "0            1.0             0.0           1.0        0.0  0.717074   \n",
       "0            1.0             0.0           1.0        0.0  0.773748   \n",
       "0            1.0             0.0           1.0        0.0  0.984770   \n",
       "0            1.0             0.0           1.0        0.0  0.912727   \n",
       "\n",
       "    Correlation5  Dissimilarity5  Homogeneity5  Contrast5  \n",
       "0            1.0             0.0           1.0        0.0  \n",
       "0            1.0             0.0           1.0        0.0  \n",
       "0            1.0             0.0           1.0        0.0  \n",
       "0            1.0             0.0           1.0        0.0  \n",
       "0            1.0             0.0           1.0        0.0  \n",
       "..           ...             ...           ...        ...  \n",
       "0            1.0             0.0           1.0        0.0  \n",
       "0            1.0             0.0           1.0        0.0  \n",
       "0            1.0             0.0           1.0        0.0  \n",
       "0            1.0             0.0           1.0        0.0  \n",
       "0            1.0             0.0           1.0        0.0  \n",
       "\n",
       "[1283 rows x 25 columns]"
      ]
     },
     "execution_count": 20,
     "metadata": {},
     "output_type": "execute_result"
    }
   ],
   "source": [
    "X_for_training"
   ]
  },
  {
   "cell_type": "markdown",
   "metadata": {},
   "source": [
    "# LGBM model"
   ]
  },
  {
   "cell_type": "code",
   "execution_count": 21,
   "metadata": {},
   "outputs": [],
   "source": [
    "# Note: in LGBM model, the classes number will start 0, for that reason, here we reassign labels \n",
    "# from 1,2,3,4 to 0,1,2,3 ect\n",
    "dtrain = lgb.Dataset(X_for_training, label = Y_train)\n",
    "\n",
    "# Set the lgbm parameters\n",
    "# Note: here we are a binary classification problem, so 'objective' should be 'binary'\n",
    "# while if we have multiple class, 'objective' would be 'multiclass'\n",
    "lgbm_parameters = {\"learning_rate\":1.0,\n",
    "                   \"task\":\"train\",\n",
    "                   \"boosting_type\":\"gbdt\",\n",
    "                   \"objective\":\"binary\",\n",
    "                   \"num_leaves\":63,\n",
    "                   \"min_data_in_leaf\":1,\n",
    "                   \"feature_fraction\":1.0,\n",
    "                   \"bagging_freq\":50,  \n",
    "                   \"bagging_fraction\":0.8,\n",
    "                   \"max_depth\":5,\n",
    "                   \"num_class\":1}"
   ]
  },
  {
   "cell_type": "code",
   "execution_count": 22,
   "metadata": {
    "scrolled": false
   },
   "outputs": [
    {
     "name": "stdout",
     "output_type": "stream",
     "text": [
      "[LightGBM] [Info] Number of positive: 589, number of negative: 694\n",
      "[LightGBM] [Warning] Auto-choosing col-wise multi-threading, the overhead of testing was 0.000933 seconds.\n",
      "You can set `force_col_wise=true` to remove the overhead.\n",
      "[LightGBM] [Info] Total Bins 4335\n",
      "[LightGBM] [Info] Number of data points in the train set: 1283, number of used features: 17\n",
      "[LightGBM] [Info] [binary:BoostFromScore]: pavg=0.459080 -> initscore=-0.164046\n",
      "[LightGBM] [Info] Start training from score -0.164046\n",
      "[LightGBM] [Warning] No further splits with positive gain, best gain: -inf\n",
      "[LightGBM] [Warning] No further splits with positive gain, best gain: -inf\n",
      "[LightGBM] [Warning] No further splits with positive gain, best gain: -inf\n",
      "[LightGBM] [Warning] No further splits with positive gain, best gain: -inf\n",
      "[LightGBM] [Warning] No further splits with positive gain, best gain: -inf\n",
      "[LightGBM] [Warning] No further splits with positive gain, best gain: -inf\n",
      "[LightGBM] [Warning] No further splits with positive gain, best gain: -inf\n",
      "[LightGBM] [Warning] No further splits with positive gain, best gain: -inf\n",
      "[LightGBM] [Warning] No further splits with positive gain, best gain: -inf\n",
      "[LightGBM] [Warning] No further splits with positive gain, best gain: -inf\n",
      "[LightGBM] [Warning] No further splits with positive gain, best gain: -inf\n",
      "[LightGBM] [Warning] No further splits with positive gain, best gain: -inf\n",
      "[LightGBM] [Warning] No further splits with positive gain, best gain: -inf\n",
      "[LightGBM] [Warning] No further splits with positive gain, best gain: -inf\n",
      "[LightGBM] [Warning] No further splits with positive gain, best gain: -inf\n",
      "[LightGBM] [Warning] No further splits with positive gain, best gain: -inf\n",
      "[LightGBM] [Warning] No further splits with positive gain, best gain: -inf\n",
      "[LightGBM] [Warning] No further splits with positive gain, best gain: -inf\n",
      "[LightGBM] [Warning] No further splits with positive gain, best gain: -inf\n",
      "[LightGBM] [Warning] No further splits with positive gain, best gain: -inf\n",
      "[LightGBM] [Warning] No further splits with positive gain, best gain: -inf\n",
      "[LightGBM] [Warning] No further splits with positive gain, best gain: -inf\n",
      "[LightGBM] [Warning] No further splits with positive gain, best gain: -inf\n",
      "[LightGBM] [Warning] No further splits with positive gain, best gain: -inf\n",
      "[LightGBM] [Warning] No further splits with positive gain, best gain: -inf\n",
      "[LightGBM] [Warning] No further splits with positive gain, best gain: -inf\n",
      "[LightGBM] [Warning] No further splits with positive gain, best gain: -inf\n",
      "[LightGBM] [Warning] No further splits with positive gain, best gain: -inf\n",
      "[LightGBM] [Warning] No further splits with positive gain, best gain: -inf\n",
      "[LightGBM] [Warning] No further splits with positive gain, best gain: -inf\n",
      "[LightGBM] [Warning] No further splits with positive gain, best gain: -inf\n",
      "[LightGBM] [Warning] No further splits with positive gain, best gain: -inf\n",
      "[LightGBM] [Warning] No further splits with positive gain, best gain: -inf\n",
      "[LightGBM] [Warning] No further splits with positive gain, best gain: -inf\n",
      "[LightGBM] [Warning] No further splits with positive gain, best gain: -inf\n",
      "[LightGBM] [Warning] No further splits with positive gain, best gain: -inf\n",
      "[LightGBM] [Warning] No further splits with positive gain, best gain: -inf\n",
      "[LightGBM] [Warning] No further splits with positive gain, best gain: -inf\n",
      "[LightGBM] [Warning] No further splits with positive gain, best gain: -inf\n",
      "[LightGBM] [Warning] No further splits with positive gain, best gain: -inf\n",
      "[LightGBM] [Warning] No further splits with positive gain, best gain: -inf\n",
      "[LightGBM] [Warning] No further splits with positive gain, best gain: -inf\n",
      "[LightGBM] [Warning] No further splits with positive gain, best gain: -inf\n",
      "[LightGBM] [Warning] No further splits with positive gain, best gain: -inf\n",
      "[LightGBM] [Warning] No further splits with positive gain, best gain: -inf\n",
      "[LightGBM] [Warning] No further splits with positive gain, best gain: -inf\n",
      "[LightGBM] [Warning] No further splits with positive gain, best gain: -inf\n",
      "[LightGBM] [Warning] No further splits with positive gain, best gain: -inf\n",
      "[LightGBM] [Warning] No further splits with positive gain, best gain: -inf\n",
      "[LightGBM] [Warning] No further splits with positive gain, best gain: -inf\n",
      "[LightGBM] [Warning] No further splits with positive gain, best gain: -inf\n",
      "[LightGBM] [Warning] No further splits with positive gain, best gain: -inf\n",
      "[LightGBM] [Warning] No further splits with positive gain, best gain: -inf\n",
      "[LightGBM] [Warning] No further splits with positive gain, best gain: -inf\n",
      "[LightGBM] [Warning] No further splits with positive gain, best gain: -inf\n",
      "[LightGBM] [Warning] No further splits with positive gain, best gain: -inf\n",
      "[LightGBM] [Warning] No further splits with positive gain, best gain: -inf\n",
      "[LightGBM] [Warning] No further splits with positive gain, best gain: -inf\n",
      "[LightGBM] [Warning] No further splits with positive gain, best gain: -inf\n",
      "[LightGBM] [Warning] No further splits with positive gain, best gain: -inf\n",
      "[LightGBM] [Warning] No further splits with positive gain, best gain: -inf\n",
      "[LightGBM] [Warning] No further splits with positive gain, best gain: -inf\n",
      "[LightGBM] [Warning] No further splits with positive gain, best gain: -inf\n",
      "[LightGBM] [Warning] No further splits with positive gain, best gain: -inf\n",
      "[LightGBM] [Warning] No further splits with positive gain, best gain: -inf\n",
      "[LightGBM] [Warning] No further splits with positive gain, best gain: -inf\n",
      "[LightGBM] [Warning] No further splits with positive gain, best gain: -inf\n",
      "[LightGBM] [Warning] No further splits with positive gain, best gain: -inf\n",
      "[LightGBM] [Warning] No further splits with positive gain, best gain: -inf\n",
      "[LightGBM] [Warning] No further splits with positive gain, best gain: -inf\n",
      "[LightGBM] [Warning] No further splits with positive gain, best gain: -inf\n",
      "[LightGBM] [Warning] No further splits with positive gain, best gain: -inf\n",
      "[LightGBM] [Warning] No further splits with positive gain, best gain: -inf\n",
      "[LightGBM] [Warning] No further splits with positive gain, best gain: -inf\n",
      "[LightGBM] [Warning] No further splits with positive gain, best gain: -inf\n",
      "[LightGBM] [Warning] No further splits with positive gain, best gain: -inf\n",
      "[LightGBM] [Warning] No further splits with positive gain, best gain: -inf\n",
      "[LightGBM] [Warning] No further splits with positive gain, best gain: -inf\n",
      "[LightGBM] [Warning] No further splits with positive gain, best gain: -inf\n",
      "[LightGBM] [Warning] No further splits with positive gain, best gain: -inf\n",
      "[LightGBM] [Warning] No further splits with positive gain, best gain: -inf\n",
      "[LightGBM] [Warning] No further splits with positive gain, best gain: -inf\n",
      "[LightGBM] [Warning] No further splits with positive gain, best gain: -inf\n",
      "[LightGBM] [Warning] No further splits with positive gain, best gain: -inf\n",
      "[LightGBM] [Warning] No further splits with positive gain, best gain: -inf\n",
      "[LightGBM] [Warning] No further splits with positive gain, best gain: -inf\n",
      "[LightGBM] [Warning] No further splits with positive gain, best gain: -inf\n",
      "[LightGBM] [Warning] No further splits with positive gain, best gain: -inf\n",
      "[LightGBM] [Warning] No further splits with positive gain, best gain: -inf\n",
      "[LightGBM] [Warning] No further splits with positive gain, best gain: -inf\n",
      "[LightGBM] [Warning] No further splits with positive gain, best gain: -inf\n",
      "[LightGBM] [Warning] No further splits with positive gain, best gain: -inf\n",
      "[LightGBM] [Warning] No further splits with positive gain, best gain: -inf\n",
      "[LightGBM] [Warning] No further splits with positive gain, best gain: -inf\n",
      "[LightGBM] [Warning] No further splits with positive gain, best gain: -inf\n",
      "[LightGBM] [Warning] No further splits with positive gain, best gain: -inf\n",
      "[LightGBM] [Warning] No further splits with positive gain, best gain: -inf\n",
      "[LightGBM] [Warning] No further splits with positive gain, best gain: -inf\n",
      "[LightGBM] [Warning] No further splits with positive gain, best gain: -inf\n"
     ]
    }
   ],
   "source": [
    "# Build the model\n",
    "lgbm_model = lgb.train(lgbm_parameters, dtrain, 100)"
   ]
  },
  {
   "cell_type": "code",
   "execution_count": 24,
   "metadata": {},
   "outputs": [],
   "source": [
    "# Predict the model\n",
    "prediction = lgbm_model.predict(X_for_test)\n",
    "#prediction = np.argmax(prediction, axis=1)"
   ]
  },
  {
   "cell_type": "code",
   "execution_count": 25,
   "metadata": {},
   "outputs": [
    {
     "name": "stdout",
     "output_type": "stream",
     "text": [
      "Accuracy = 0.6791277258566978\n"
     ]
    }
   ],
   "source": [
    "# Check the accuracy\n",
    "# Note: prediction valuse is a probability (float numbers), however, Y_test is integer values\n",
    "# so we need to round() the prediction to integer ones\n",
    "acc = accuracy_score(prediction.round(), Y_test)\n",
    "print(\"Accuracy = {}\".format(acc))"
   ]
  },
  {
   "cell_type": "code",
   "execution_count": 26,
   "metadata": {},
   "outputs": [
    {
     "data": {
      "text/plain": [
       "<AxesSubplot:>"
      ]
     },
     "execution_count": 26,
     "metadata": {},
     "output_type": "execute_result"
    },
    {
     "data": {
      "image/png": "[encoded data removed]",
      "text/plain": [
       "<Figure size 432x288 with 2 Axes>"
      ]
     },
     "metadata": {
      "needs_background": "light"
     },
     "output_type": "display_data"
    }
   ],
   "source": [
    "# Confusion matrix\n",
    "cm = confusion_matrix(Y_test, prediction.round())\n",
    "sns.heatmap(cm, annot=True)"
   ]
  },
  {
   "cell_type": "code",
   "execution_count": 27,
   "metadata": {},
   "outputs": [
    {
     "name": "stdout",
     "output_type": "stream",
     "text": [
      "              precision    recall  f1-score   support\n",
      "\n",
      "           0       0.66      0.72      0.69       157\n",
      "           1       0.70      0.64      0.67       164\n",
      "\n",
      "    accuracy                           0.68       321\n",
      "   macro avg       0.68      0.68      0.68       321\n",
      "weighted avg       0.68      0.68      0.68       321\n",
      "\n"
     ]
    }
   ],
   "source": [
    "print(classification_report(Y_test, prediction.round()))"
   ]
  },
  {
   "cell_type": "code",
   "execution_count": 28,
   "metadata": {},
   "outputs": [
    {
     "name": "stdout",
     "output_type": "stream",
     "text": [
      "The prediction for this image is:  0\n",
      "The actual label for this image is:  0\n"
     ]
    },
    {
     "data": {
      "image/png": "[encoded data removed]",
      "text/plain": [
       "<Figure size 432x288 with 1 Axes>"
      ]
     },
     "metadata": {
      "needs_background": "light"
     },
     "output_type": "display_data"
    }
   ],
   "source": [
    "#Check results on a few select images\n",
    "num = np.random.randint(0, X_test.shape[0]-1)\n",
    "img = X_test[num]\n",
    "plt.imshow(img)\n",
    "\n",
    "#Expand features and reshape the input into (num images, x, y, c)\n",
    "input_img = np.expand_dims(img, axis=0) \n",
    "img_feature=feature_extraction(input_img)\n",
    "img_feature = np.expand_dims(img_feature, axis=0)\n",
    "input_img_for_lgbm = np.reshape(img_feature, (input_img.shape[0], -1))\n",
    "\n",
    "#Predict\n",
    "y_pred = lgbm_model.predict(input_img_for_lgbm)\n",
    "y_pred = np.argmax(y_pred, axis=0) \n",
    "print(\"The prediction for this image is: \", y_pred)\n",
    "print(\"The actual label for this image is: \", Y_test[num])"
   ]
  },
  {
   "cell_type": "code",
   "execution_count": 36,
   "metadata": {},
   "outputs": [
    {
     "name": "stdout",
     "output_type": "stream",
     "text": [
      "The prediction for this image is:  0\n",
      "The actual label for this image is:  1\n"
     ]
    },
    {
     "data": {
      "image/png": "[encoded data removed]",
      "text/plain": [
       "<Figure size 432x288 with 1 Axes>"
      ]
     },
     "metadata": {
      "needs_background": "light"
     },
     "output_type": "display_data"
    }
   ],
   "source": [
    "#Check results on a few select images\n",
    "num = np.random.randint(0, X_test.shape[0]-1)\n",
    "img = X_test[num]\n",
    "plt.imshow(img)\n",
    "\n",
    "#Expand features and reshape the input into (num images, x, y, c)\n",
    "input_img = np.expand_dims(img, axis=0) \n",
    "img_feature=feature_extraction(input_img)\n",
    "img_feature = np.expand_dims(img_feature, axis=0)\n",
    "input_img_for_lgbm = np.reshape(img_feature, (input_img.shape[0], -1))\n",
    "\n",
    "#Predict\n",
    "y_pred = lgbm_model.predict(input_img_for_lgbm)\n",
    "y_pred = np.argmax(y_pred, axis=0) \n",
    "print(\"The prediction for this image is: \", y_pred)\n",
    "print(\"The actual label for this image is: \", Y_test[num])"
   ]
  },
  {
   "cell_type": "markdown",
   "metadata": {},
   "source": [
    "# Random Forest model"
   ]
  },
  {
   "cell_type": "code",
   "execution_count": 30,
   "metadata": {},
   "outputs": [
    {
     "name": "stdout",
     "output_type": "stream",
     "text": [
      "Fitting the RF model\n"
     ]
    }
   ],
   "source": [
    "RF_model = RandomForestClassifier(n_estimators=50, random_state=42)\n",
    "RF_model.fit(X_for_training, Y_train)\n",
    "print(\"Fitting the RF model\")"
   ]
  },
  {
   "cell_type": "code",
   "execution_count": 31,
   "metadata": {},
   "outputs": [
    {
     "name": "stdout",
     "output_type": "stream",
     "text": [
      "Accuracy = 0.7507788161993769\n"
     ]
    }
   ],
   "source": [
    "# Predict the model\n",
    "y_pred = RF_model.predict(X_for_test)\n",
    "\n",
    "# Check the accuracy\n",
    "accuracy = accuracy_score(Y_test, y_pred)\n",
    "print(\"Accuracy = {}\".format(accuracy))"
   ]
  },
  {
   "cell_type": "code",
   "execution_count": 32,
   "metadata": {},
   "outputs": [
    {
     "name": "stdout",
     "output_type": "stream",
     "text": [
      "[0.04737892 0.09534453 0.04929591 0.05459773 0.04783762 0.04414976\n",
      " 0.09292765 0.04248083 0.04493914 0.05923804 0.05169776 0.10473655\n",
      " 0.04090861 0.03656332 0.08464924 0.05179698 0.         0.\n",
      " 0.         0.         0.05145741 0.         0.         0.\n",
      " 0.        ]\n"
     ]
    }
   ],
   "source": [
    "# Feature importance\n",
    "print(RF_model.feature_importances_)"
   ]
  },
  {
   "cell_type": "markdown",
   "metadata": {},
   "source": [
    "# Support Vector Machine model"
   ]
  },
  {
   "cell_type": "code",
   "execution_count": 33,
   "metadata": {},
   "outputs": [
    {
     "name": "stdout",
     "output_type": "stream",
     "text": [
      "Training SVM model\n"
     ]
    }
   ],
   "source": [
    "C = 1.0\n",
    "SVM_model = svm.SVC(kernel=\"rbf\", C=C).fit(X_for_training, Y_train)\n",
    "print(\"Training SVM model\")"
   ]
  },
  {
   "cell_type": "code",
   "execution_count": 34,
   "metadata": {},
   "outputs": [
    {
     "name": "stdout",
     "output_type": "stream",
     "text": [
      "Accuracy = 0.5794392523364486\n"
     ]
    }
   ],
   "source": [
    "# Predict the model\n",
    "y_pred_svm = SVM_model.predict(X_for_test)\n",
    "\n",
    "# Check the accuracy\n",
    "accuracy = accuracy_score(Y_test, y_pred_svm)\n",
    "print(\"Accuracy = {}\".format(accuracy))"
   ]
  },
  {
   "cell_type": "markdown",
   "metadata": {},
   "source": [
    "# Comapre the results of trained models"
   ]
  },
  {
   "cell_type": "code",
   "execution_count": 35,
   "metadata": {},
   "outputs": [
    {
     "data": {
      "text/html": [
       "<div>\n",
       "<style scoped>\n",
       "    .dataframe tbody tr th:only-of-type {\n",
       "        vertical-align: middle;\n",
       "    }\n",
       "\n",
       "    .dataframe tbody tr th {\n",
       "        vertical-align: top;\n",
       "    }\n",
       "\n",
       "    .dataframe thead th {\n",
       "        text-align: right;\n",
       "    }\n",
       "</style>\n",
       "<table border=\"1\" class=\"dataframe\">\n",
       "  <thead>\n",
       "    <tr style=\"text-align: right;\">\n",
       "      <th></th>\n",
       "      <th>Models</th>\n",
       "      <th>Accuracy</th>\n",
       "    </tr>\n",
       "  </thead>\n",
       "  <tbody>\n",
       "    <tr>\n",
       "      <th>0</th>\n",
       "      <td>LGBM model</td>\n",
       "      <td>67</td>\n",
       "    </tr>\n",
       "    <tr>\n",
       "      <th>1</th>\n",
       "      <td>Random Forest model</td>\n",
       "      <td>75</td>\n",
       "    </tr>\n",
       "    <tr>\n",
       "      <th>2</th>\n",
       "      <td>SVM model</td>\n",
       "      <td>57</td>\n",
       "    </tr>\n",
       "  </tbody>\n",
       "</table>\n",
       "</div>"
      ],
      "text/plain": [
       "                Models Accuracy\n",
       "0           LGBM model       67\n",
       "1  Random Forest model       75\n",
       "2            SVM model       57"
      ]
     },
     "execution_count": 35,
     "metadata": {},
     "output_type": "execute_result"
    }
   ],
   "source": [
    "models = [\"LGBM model\", \"Random Forest model\", \"SVM model\"]\n",
    "\n",
    "accuracy = [67, 75, 57]\n",
    "dic = {\"Models\":models, \"Accuracy\":accuracy}\n",
    "\n",
    "df_models = pd.DataFrame.from_dict(dic, orient='index')\n",
    "df_models.transpose()"
   ]
  },
  {
   "cell_type": "code",
   "execution_count": null,
   "metadata": {},
   "outputs": [],
   "source": []
  }
 ],
 "metadata": {
  "kernelspec": {
   "display_name": "Python 3",
   "language": "python",
   "name": "python3"
  },
  "language_info": {
   "codemirror_mode": {
    "name": "ipython",
    "version": 3
   },
   "file_extension": ".py",
   "mimetype": "text/x-python",
   "name": "python",
   "nbconvert_exporter": "python",
   "pygments_lexer": "ipython3",
   "version": "3.7.9"
  }
 },
 "nbformat": 4,
 "nbformat_minor": 4
}
